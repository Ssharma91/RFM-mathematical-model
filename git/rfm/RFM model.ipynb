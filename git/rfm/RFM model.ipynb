{
 "cells": [
  {
   "cell_type": "code",
   "execution_count": 1,
   "metadata": {},
   "outputs": [],
   "source": [
    "# Import necessary packages\n",
    "import numpy as np\n",
    "import pandas as pd\n",
    "import datetime as dt\n",
    "import matplotlib.pyplot as plt\n",
    "%matplotlib inline\n",
    "# import squarify"
   ]
  },
  {
   "cell_type": "code",
   "execution_count": 2,
   "metadata": {},
   "outputs": [],
   "source": [
    "#Read RFM Data\n",
    "df = pd.read_csv(\"RFM_3yr\")"
   ]
  },
  {
   "cell_type": "code",
   "execution_count": 3,
   "metadata": {},
   "outputs": [
    {
     "data": {
      "text/html": [
       "<div>\n",
       "<style scoped>\n",
       "    .dataframe tbody tr th:only-of-type {\n",
       "        vertical-align: middle;\n",
       "    }\n",
       "\n",
       "    .dataframe tbody tr th {\n",
       "        vertical-align: top;\n",
       "    }\n",
       "\n",
       "    .dataframe thead th {\n",
       "        text-align: right;\n",
       "    }\n",
       "</style>\n",
       "<table border=\"1\" class=\"dataframe\">\n",
       "  <thead>\n",
       "    <tr style=\"text-align: right;\">\n",
       "      <th></th>\n",
       "      <th>CID</th>\n",
       "      <th>TRIPS</th>\n",
       "      <th>SALES</th>\n",
       "      <th>DAYS</th>\n",
       "    </tr>\n",
       "  </thead>\n",
       "  <tbody>\n",
       "    <tr>\n",
       "      <th>0</th>\n",
       "      <td>11</td>\n",
       "      <td>49</td>\n",
       "      <td>2887.71</td>\n",
       "      <td>57</td>\n",
       "    </tr>\n",
       "    <tr>\n",
       "      <th>1</th>\n",
       "      <td>16</td>\n",
       "      <td>28</td>\n",
       "      <td>718.25</td>\n",
       "      <td>396</td>\n",
       "    </tr>\n",
       "    <tr>\n",
       "      <th>2</th>\n",
       "      <td>19</td>\n",
       "      <td>5</td>\n",
       "      <td>473.18</td>\n",
       "      <td>145</td>\n",
       "    </tr>\n",
       "    <tr>\n",
       "      <th>3</th>\n",
       "      <td>24</td>\n",
       "      <td>31</td>\n",
       "      <td>1207.11</td>\n",
       "      <td>67</td>\n",
       "    </tr>\n",
       "    <tr>\n",
       "      <th>4</th>\n",
       "      <td>30</td>\n",
       "      <td>1</td>\n",
       "      <td>39.00</td>\n",
       "      <td>872</td>\n",
       "    </tr>\n",
       "  </tbody>\n",
       "</table>\n",
       "</div>"
      ],
      "text/plain": [
       "   CID  TRIPS    SALES  DAYS\n",
       "0   11     49  2887.71    57\n",
       "1   16     28   718.25   396\n",
       "2   19      5   473.18   145\n",
       "3   24     31  1207.11    67\n",
       "4   30      1    39.00   872"
      ]
     },
     "execution_count": 3,
     "metadata": {},
     "output_type": "execute_result"
    }
   ],
   "source": [
    "df.head()"
   ]
  },
  {
   "cell_type": "code",
   "execution_count": 5,
   "metadata": {},
   "outputs": [
    {
     "data": {
      "text/plain": [
       "{'DAYS': {0.2: 136.0, 0.4: 254.0, 0.6: 500.0, 0.8: 774.0},\n",
       " 'TRIPS': {0.2: 1.0, 0.4: 2.0, 0.6: 3.0, 0.8: 6.0},\n",
       " 'SALES': {0.2: 40.76, 0.4: 88.18, 0.6: 178.87, 0.8: 434.45}}"
      ]
     },
     "execution_count": 5,
     "metadata": {},
     "output_type": "execute_result"
    }
   ],
   "source": [
    "quintiles = df[['DAYS', 'TRIPS', 'SALES']].quantile([.2, .4, .6, .8]).to_dict()\n",
    "quintiles"
   ]
  },
  {
   "cell_type": "code",
   "execution_count": 6,
   "metadata": {},
   "outputs": [],
   "source": [
    "def r_score(x):\n",
    "    if x <= quintiles['DAYS'][.2]:\n",
    "        return 5\n",
    "    elif x <= quintiles['DAYS'][.4]:\n",
    "        return 4\n",
    "    elif x <= quintiles['DAYS'][.6]:\n",
    "        return 3\n",
    "    elif x <= quintiles['DAYS'][.8]:\n",
    "        return 2\n",
    "    else:\n",
    "        return 1\n",
    "    \n",
    "def fm_score(x, c):\n",
    "    if x <= quintiles[c][.2]:\n",
    "        return 1\n",
    "    elif x <= quintiles[c][.4]:\n",
    "        return 2\n",
    "    elif x <= quintiles[c][.6]:\n",
    "        return 3\n",
    "    elif x <= quintiles[c][.8]:\n",
    "        return 4\n",
    "    else:\n",
    "        return 5    "
   ]
  },
  {
   "cell_type": "code",
   "execution_count": 7,
   "metadata": {},
   "outputs": [],
   "source": [
    "df['R'] = df['DAYS'].apply(lambda x: r_score(x))\n",
    "df['F'] = df['TRIPS'].apply(lambda x: fm_score(x, 'TRIPS'))\n",
    "df['M'] = df['SALES'].apply(lambda x: fm_score(x, 'SALES'))"
   ]
  },
  {
   "cell_type": "code",
   "execution_count": 8,
   "metadata": {},
   "outputs": [
    {
     "data": {
      "text/html": [
       "<div>\n",
       "<style scoped>\n",
       "    .dataframe tbody tr th:only-of-type {\n",
       "        vertical-align: middle;\n",
       "    }\n",
       "\n",
       "    .dataframe tbody tr th {\n",
       "        vertical-align: top;\n",
       "    }\n",
       "\n",
       "    .dataframe thead th {\n",
       "        text-align: right;\n",
       "    }\n",
       "</style>\n",
       "<table border=\"1\" class=\"dataframe\">\n",
       "  <thead>\n",
       "    <tr style=\"text-align: right;\">\n",
       "      <th></th>\n",
       "      <th>CID</th>\n",
       "      <th>TRIPS</th>\n",
       "      <th>SALES</th>\n",
       "      <th>DAYS</th>\n",
       "      <th>R</th>\n",
       "      <th>F</th>\n",
       "      <th>M</th>\n",
       "      <th>RFM Score</th>\n",
       "    </tr>\n",
       "  </thead>\n",
       "  <tbody>\n",
       "    <tr>\n",
       "      <th>0</th>\n",
       "      <td>11</td>\n",
       "      <td>49</td>\n",
       "      <td>2887.71</td>\n",
       "      <td>57</td>\n",
       "      <td>5</td>\n",
       "      <td>5</td>\n",
       "      <td>5</td>\n",
       "      <td>555</td>\n",
       "    </tr>\n",
       "    <tr>\n",
       "      <th>1</th>\n",
       "      <td>16</td>\n",
       "      <td>28</td>\n",
       "      <td>718.25</td>\n",
       "      <td>396</td>\n",
       "      <td>3</td>\n",
       "      <td>5</td>\n",
       "      <td>5</td>\n",
       "      <td>355</td>\n",
       "    </tr>\n",
       "    <tr>\n",
       "      <th>2</th>\n",
       "      <td>19</td>\n",
       "      <td>5</td>\n",
       "      <td>473.18</td>\n",
       "      <td>145</td>\n",
       "      <td>4</td>\n",
       "      <td>4</td>\n",
       "      <td>5</td>\n",
       "      <td>445</td>\n",
       "    </tr>\n",
       "    <tr>\n",
       "      <th>3</th>\n",
       "      <td>24</td>\n",
       "      <td>31</td>\n",
       "      <td>1207.11</td>\n",
       "      <td>67</td>\n",
       "      <td>5</td>\n",
       "      <td>5</td>\n",
       "      <td>5</td>\n",
       "      <td>555</td>\n",
       "    </tr>\n",
       "    <tr>\n",
       "      <th>4</th>\n",
       "      <td>30</td>\n",
       "      <td>1</td>\n",
       "      <td>39.00</td>\n",
       "      <td>872</td>\n",
       "      <td>1</td>\n",
       "      <td>1</td>\n",
       "      <td>1</td>\n",
       "      <td>111</td>\n",
       "    </tr>\n",
       "  </tbody>\n",
       "</table>\n",
       "</div>"
      ],
      "text/plain": [
       "   CID  TRIPS    SALES  DAYS  R  F  M RFM Score\n",
       "0   11     49  2887.71    57  5  5  5       555\n",
       "1   16     28   718.25   396  3  5  5       355\n",
       "2   19      5   473.18   145  4  4  5       445\n",
       "3   24     31  1207.11    67  5  5  5       555\n",
       "4   30      1    39.00   872  1  1  1       111"
      ]
     },
     "execution_count": 8,
     "metadata": {},
     "output_type": "execute_result"
    }
   ],
   "source": [
    "df['RFM Score'] = df['R'].map(str) + df['F'].map(str) + df['M'].map(str)\n",
    "df.head()"
   ]
  },
  {
   "cell_type": "code",
   "execution_count": 9,
   "metadata": {},
   "outputs": [
    {
     "data": {
      "text/html": [
       "<div>\n",
       "<style scoped>\n",
       "    .dataframe tbody tr th:only-of-type {\n",
       "        vertical-align: middle;\n",
       "    }\n",
       "\n",
       "    .dataframe tbody tr th {\n",
       "        vertical-align: top;\n",
       "    }\n",
       "\n",
       "    .dataframe thead th {\n",
       "        text-align: right;\n",
       "    }\n",
       "</style>\n",
       "<table border=\"1\" class=\"dataframe\">\n",
       "  <thead>\n",
       "    <tr style=\"text-align: right;\">\n",
       "      <th></th>\n",
       "      <th>CID</th>\n",
       "      <th>TRIPS</th>\n",
       "      <th>SALES</th>\n",
       "      <th>DAYS</th>\n",
       "      <th>R</th>\n",
       "      <th>F</th>\n",
       "      <th>M</th>\n",
       "      <th>RFM Score</th>\n",
       "    </tr>\n",
       "  </thead>\n",
       "  <tbody>\n",
       "    <tr>\n",
       "      <th>0</th>\n",
       "      <td>11</td>\n",
       "      <td>49</td>\n",
       "      <td>2887.71</td>\n",
       "      <td>57</td>\n",
       "      <td>5</td>\n",
       "      <td>5</td>\n",
       "      <td>5</td>\n",
       "      <td>555</td>\n",
       "    </tr>\n",
       "    <tr>\n",
       "      <th>1</th>\n",
       "      <td>16</td>\n",
       "      <td>28</td>\n",
       "      <td>718.25</td>\n",
       "      <td>396</td>\n",
       "      <td>3</td>\n",
       "      <td>5</td>\n",
       "      <td>5</td>\n",
       "      <td>355</td>\n",
       "    </tr>\n",
       "    <tr>\n",
       "      <th>2</th>\n",
       "      <td>19</td>\n",
       "      <td>5</td>\n",
       "      <td>473.18</td>\n",
       "      <td>145</td>\n",
       "      <td>4</td>\n",
       "      <td>4</td>\n",
       "      <td>5</td>\n",
       "      <td>445</td>\n",
       "    </tr>\n",
       "    <tr>\n",
       "      <th>3</th>\n",
       "      <td>24</td>\n",
       "      <td>31</td>\n",
       "      <td>1207.11</td>\n",
       "      <td>67</td>\n",
       "      <td>5</td>\n",
       "      <td>5</td>\n",
       "      <td>5</td>\n",
       "      <td>555</td>\n",
       "    </tr>\n",
       "    <tr>\n",
       "      <th>4</th>\n",
       "      <td>30</td>\n",
       "      <td>1</td>\n",
       "      <td>39.00</td>\n",
       "      <td>872</td>\n",
       "      <td>1</td>\n",
       "      <td>1</td>\n",
       "      <td>1</td>\n",
       "      <td>111</td>\n",
       "    </tr>\n",
       "  </tbody>\n",
       "</table>\n",
       "</div>"
      ],
      "text/plain": [
       "   CID  TRIPS    SALES  DAYS  R  F  M RFM Score\n",
       "0   11     49  2887.71    57  5  5  5       555\n",
       "1   16     28   718.25   396  3  5  5       355\n",
       "2   19      5   473.18   145  4  4  5       445\n",
       "3   24     31  1207.11    67  5  5  5       555\n",
       "4   30      1    39.00   872  1  1  1       111"
      ]
     },
     "execution_count": 9,
     "metadata": {},
     "output_type": "execute_result"
    }
   ],
   "source": [
    "df.sort_values(by=['RFM Score', 'SALES'], ascending=[True, False])\n",
    "df.head()"
   ]
  },
  {
   "cell_type": "code",
   "execution_count": 10,
   "metadata": {},
   "outputs": [
    {
     "data": {
      "text/plain": [
       "RFM Score\n",
       "111      22.772454\n",
       "112      60.313612\n",
       "113     120.514359\n",
       "114     247.209815\n",
       "115     811.576287\n",
       "121      28.917270\n",
       "122      64.536638\n",
       "123     126.036925\n",
       "124     253.205568\n",
       "125     766.055715\n",
       "131      28.584741\n",
       "132      67.925422\n",
       "133     131.099095\n",
       "134     264.373556\n",
       "135     719.877085\n",
       "141      27.455973\n",
       "142      69.618954\n",
       "143     136.879720\n",
       "144     281.863797\n",
       "145     724.645146\n",
       "151      30.078478\n",
       "152      68.363346\n",
       "153     141.887007\n",
       "154     310.578538\n",
       "155     940.197761\n",
       "211      23.099733\n",
       "212      60.359269\n",
       "213     120.272012\n",
       "214     247.136025\n",
       "215     831.867614\n",
       "          ...     \n",
       "451      31.137163\n",
       "452      71.499001\n",
       "453     146.512242\n",
       "454     323.961804\n",
       "455    1139.204862\n",
       "511      23.464691\n",
       "512      60.382916\n",
       "513     120.124760\n",
       "514     248.982897\n",
       "515     848.326155\n",
       "521      30.104789\n",
       "522      64.973113\n",
       "523     126.470420\n",
       "524     252.835181\n",
       "525     781.919840\n",
       "531      31.690855\n",
       "532      68.648433\n",
       "533     131.856521\n",
       "534     264.132390\n",
       "535     709.188341\n",
       "541      31.960928\n",
       "542      71.384420\n",
       "543     139.302644\n",
       "544     287.957415\n",
       "545     692.667658\n",
       "551      31.699603\n",
       "552      72.546392\n",
       "553     147.352981\n",
       "554     327.393224\n",
       "555    1603.013286\n",
       "Name: SALES, Length: 125, dtype: float64"
      ]
     },
     "execution_count": 10,
     "metadata": {},
     "output_type": "execute_result"
    }
   ],
   "source": [
    "df.groupby('RFM Score').agg('SALES').mean()"
   ]
  },
  {
   "cell_type": "code",
   "execution_count": 11,
   "metadata": {},
   "outputs": [
    {
     "name": "stdout",
     "output_type": "stream",
     "text": [
      "<class 'pandas.core.frame.DataFrame'>\n",
      "RangeIndex: 86817653 entries, 0 to 86817652\n",
      "Data columns (total 9 columns):\n",
      "CID            int64\n",
      "TRIPS          int64\n",
      "SALES          float64\n",
      "DAYS           int64\n",
      "R              int64\n",
      "F              int64\n",
      "M              int64\n",
      "RFM Score      object\n",
      "Total Score    int64\n",
      "dtypes: float64(1), int64(7), object(1)\n",
      "memory usage: 5.8+ GB\n",
      "   CID  TRIPS    SALES  DAYS  R  F  M RFM Score  Total Score\n",
      "0   11     49  2887.71    57  5  5  5       555           15\n",
      "1   16     28   718.25   396  3  5  5       355           13\n",
      "2   19      5   473.18   145  4  4  5       445           13\n",
      "3   24     31  1207.11    67  5  5  5       555           15\n",
      "4   30      1    39.00   872  1  1  1       111            3 None\n"
     ]
    }
   ],
   "source": [
    "df['Total Score'] = df['R'] + df['F'] +df['M']\n",
    "print(df.head(), df.info())"
   ]
  },
  {
   "cell_type": "code",
   "execution_count": 12,
   "metadata": {},
   "outputs": [
    {
     "data": {
      "text/plain": [
       "Total Score\n",
       "3       22.772454\n",
       "4       41.357912\n",
       "5       61.237564\n",
       "6       81.439698\n",
       "7      107.721282\n",
       "8      142.977473\n",
       "9      183.632965\n",
       "10     235.810061\n",
       "11     302.896930\n",
       "12     404.025192\n",
       "13     583.576974\n",
       "14     914.978750\n",
       "15    1603.013286\n",
       "Name: SALES, dtype: float64"
      ]
     },
     "execution_count": 12,
     "metadata": {},
     "output_type": "execute_result"
    }
   ],
   "source": [
    "df.groupby('Total Score').agg('SALES').mean()"
   ]
  },
  {
   "cell_type": "code",
   "execution_count": 13,
   "metadata": {},
   "outputs": [
    {
     "data": {
      "text/plain": [
       "<matplotlib.axes._subplots.AxesSubplot at 0x7f16d2f074a8>"
      ]
     },
     "execution_count": 13,
     "metadata": {},
     "output_type": "execute_result"
    },
    {
     "data": {
      "image/png": "[encoded data removed]",
      "text/plain": [
       "<Figure size 432x288 with 1 Axes>"
      ]
     },
     "metadata": {
      "needs_background": "light"
     },
     "output_type": "display_data"
    }
   ],
   "source": [
    "df.groupby('Total Score').agg('SALES').mean().plot(kind='bar', colormap='Blues_r')"
   ]
  },
  {
   "cell_type": "code",
   "execution_count": 14,
   "metadata": {
    "scrolled": true
   },
   "outputs": [
    {
     "data": {
      "image/png": "[encoded data removed]",
      "text/plain": [
       "<Figure size 720x288 with 2 Axes>"
      ]
     },
     "metadata": {
      "needs_background": "light"
     },
     "output_type": "display_data"
    },
    {
     "data": {
      "image/png": "[encoded data removed]",
      "text/plain": [
       "<Figure size 720x720 with 25 Axes>"
      ]
     },
     "metadata": {
      "needs_background": "light"
     },
     "output_type": "display_data"
    }
   ],
   "source": [
    "# plot the distribution of customers over R and F\n",
    "fig, axes = plt.subplots(nrows=1, ncols=2, figsize=(10, 4))\n",
    "\n",
    "for i, p in enumerate(['R', 'F']):\n",
    "    parameters = {'R':'DAYS', 'F':'TRIPS'}\n",
    "    y = df[p].value_counts().sort_index()\n",
    "    x = y.index\n",
    "    ax = axes[i]\n",
    "    bars = ax.bar(x, y, color='silver')\n",
    "    ax.set_frame_on(False)\n",
    "    ax.tick_params(left=False, labelleft=False, bottom=False)\n",
    "    ax.set_title('Distribution of {}'.format(parameters[p]),\n",
    "                fontsize=14)\n",
    "    for bar in bars:\n",
    "        value = bar.get_height()\n",
    "        if value == y.max():\n",
    "            bar.set_color('firebrick')\n",
    "        ax.text(bar.get_x() + bar.get_width() / 2,\n",
    "                value - 5,\n",
    "                '{}\\n({}%)'.format(int(value), int(value * 100 / y.sum())),\n",
    "               ha='center',\n",
    "               va='top',\n",
    "               color='w')\n",
    "        \n",
    "plt.show()\n",
    "\n",
    "# plot the distribution of M for RF score\n",
    "fig, axes = plt.subplots(nrows=5, ncols=5,\n",
    "                         sharex=False, sharey=True,\n",
    "                         figsize=(10, 10))\n",
    "\n",
    "r_range = range(1, 6)\n",
    "f_range = range(1, 6)\n",
    "for r in r_range:\n",
    "    for f in f_range:\n",
    "        y = df[(df['R'] == r) & (df['F'] == f)]['M'].value_counts().sort_index()\n",
    "        x = y.index\n",
    "        ax = axes[r - 1, f - 1]\n",
    "        bars = ax.bar(x, y, color='silver')\n",
    "        if r == 5:\n",
    "            if f == 3:\n",
    "                ax.set_xlabel('{}\\nF'.format(f), va='top')\n",
    "            else:\n",
    "                ax.set_xlabel('{}\\n'.format(f), va='top')\n",
    "        if f == 1:\n",
    "            if r == 3:\n",
    "                ax.set_ylabel('R\\n{}'.format(r))\n",
    "            else:\n",
    "                ax.set_ylabel(r)\n",
    "        ax.set_frame_on(False)\n",
    "        ax.tick_params(left=False, labelleft=False, bottom=False)\n",
    "        ax.set_xticks(x)\n",
    "        ax.set_xticklabels(x, fontsize=8)\n",
    "\n",
    "        for bar in bars:\n",
    "            value = bar.get_height()\n",
    "            if value == y.max():\n",
    "                bar.set_color('firebrick')\n",
    "            ax.text(bar.get_x() + bar.get_width() / 2,\n",
    "                    value,\n",
    "                    int(value),\n",
    "                    ha='center',\n",
    "                    va='bottom',\n",
    "                    color='k')\n",
    "fig.suptitle('Distribution of M for each F and R',\n",
    "             fontsize=14)\n",
    "plt.tight_layout()\n",
    "plt.show()"
   ]
  },
  {
   "cell_type": "markdown",
   "metadata": {},
   "source": [
    "# Segment\tDescription\n",
    "1. Champions -\tBought recently, buy often and spend the most<br>\n",
    "2. Loyal Customers-\tBuy on a regular basis. Responsive to promotions.<br>\n",
    "3. Potential Loyalist-\tRecent customers with average frequency.<br>\n",
    "4. Recent Customers-\tBought most recently, but not often.<br>\n",
    "5. Promising-\tRecent shoppers, but haven’t spent much.<br>\n",
    "6. Customers Needing Attention-\tAbove average recency, frequency and monetary values. May not have bought very recently though.<br>\n",
    "7. About To Sleep-\tBelow average recency and frequency. Will lose them if not reactivated.<br>\n",
    "8. At Risk\t-Purchased often but a long time ago. Need to bring them back!<br>\n",
    "9. Can’t Lose Them\t-Used to purchase frequently but haven’t returned for a long time.<br>\n",
    "10. Hibernating-\tLast purchase was long back and low number of orders. May be lost.<br>"
   ]
  },
  {
   "cell_type": "code",
   "execution_count": 15,
   "metadata": {},
   "outputs": [
    {
     "data": {
      "text/html": [
       "<div>\n",
       "<style scoped>\n",
       "    .dataframe tbody tr th:only-of-type {\n",
       "        vertical-align: middle;\n",
       "    }\n",
       "\n",
       "    .dataframe tbody tr th {\n",
       "        vertical-align: top;\n",
       "    }\n",
       "\n",
       "    .dataframe thead th {\n",
       "        text-align: right;\n",
       "    }\n",
       "</style>\n",
       "<table border=\"1\" class=\"dataframe\">\n",
       "  <thead>\n",
       "    <tr style=\"text-align: right;\">\n",
       "      <th></th>\n",
       "      <th>CID</th>\n",
       "      <th>TRIPS</th>\n",
       "      <th>SALES</th>\n",
       "      <th>DAYS</th>\n",
       "      <th>R</th>\n",
       "      <th>F</th>\n",
       "      <th>M</th>\n",
       "      <th>RFM Score</th>\n",
       "      <th>Total Score</th>\n",
       "      <th>Segment</th>\n",
       "    </tr>\n",
       "  </thead>\n",
       "  <tbody>\n",
       "    <tr>\n",
       "      <th>0</th>\n",
       "      <td>11</td>\n",
       "      <td>49</td>\n",
       "      <td>2887.71</td>\n",
       "      <td>57</td>\n",
       "      <td>5</td>\n",
       "      <td>5</td>\n",
       "      <td>5</td>\n",
       "      <td>555</td>\n",
       "      <td>15</td>\n",
       "      <td>champions</td>\n",
       "    </tr>\n",
       "    <tr>\n",
       "      <th>1</th>\n",
       "      <td>16</td>\n",
       "      <td>28</td>\n",
       "      <td>718.25</td>\n",
       "      <td>396</td>\n",
       "      <td>3</td>\n",
       "      <td>5</td>\n",
       "      <td>5</td>\n",
       "      <td>355</td>\n",
       "      <td>13</td>\n",
       "      <td>loyal customers</td>\n",
       "    </tr>\n",
       "    <tr>\n",
       "      <th>2</th>\n",
       "      <td>19</td>\n",
       "      <td>5</td>\n",
       "      <td>473.18</td>\n",
       "      <td>145</td>\n",
       "      <td>4</td>\n",
       "      <td>4</td>\n",
       "      <td>5</td>\n",
       "      <td>445</td>\n",
       "      <td>13</td>\n",
       "      <td>loyal customers</td>\n",
       "    </tr>\n",
       "    <tr>\n",
       "      <th>3</th>\n",
       "      <td>24</td>\n",
       "      <td>31</td>\n",
       "      <td>1207.11</td>\n",
       "      <td>67</td>\n",
       "      <td>5</td>\n",
       "      <td>5</td>\n",
       "      <td>5</td>\n",
       "      <td>555</td>\n",
       "      <td>15</td>\n",
       "      <td>champions</td>\n",
       "    </tr>\n",
       "    <tr>\n",
       "      <th>4</th>\n",
       "      <td>30</td>\n",
       "      <td>1</td>\n",
       "      <td>39.00</td>\n",
       "      <td>872</td>\n",
       "      <td>1</td>\n",
       "      <td>1</td>\n",
       "      <td>1</td>\n",
       "      <td>111</td>\n",
       "      <td>3</td>\n",
       "      <td>hibernating</td>\n",
       "    </tr>\n",
       "  </tbody>\n",
       "</table>\n",
       "</div>"
      ],
      "text/plain": [
       "   CID  TRIPS    SALES  DAYS  R  F  M RFM Score  Total Score          Segment\n",
       "0   11     49  2887.71    57  5  5  5       555           15        champions\n",
       "1   16     28   718.25   396  3  5  5       355           13  loyal customers\n",
       "2   19      5   473.18   145  4  4  5       445           13  loyal customers\n",
       "3   24     31  1207.11    67  5  5  5       555           15        champions\n",
       "4   30      1    39.00   872  1  1  1       111            3      hibernating"
      ]
     },
     "execution_count": 15,
     "metadata": {},
     "output_type": "execute_result"
    }
   ],
   "source": [
    "# segt_map = {\n",
    "#     r'[1-2][1-2]': 'hibernating',\n",
    "#     r'[1-2][3-4]': 'at risk',\n",
    "#     r'[1-2]5': 'can\\'t loose',\n",
    "#     r'3[1-2]': 'about to sleep',\n",
    "#     r'33': 'need attention',\n",
    "#     r'[3-4][4-5]': 'loyal customers',\n",
    "#     r'41': 'promising',\n",
    "#     r'51': 'new customers',\n",
    "#     r'[4-5][2-3]': 'potential loyalists',\n",
    "#     r'5[4-5]': 'champions'\n",
    "# }\n",
    "\n",
    "# df['Segment'] = df['R'].map(str) + df['F'].map(str)\n",
    "# df['Segment'] = df['Segment'].replace(segt_map, regex=True)\n",
    "# df.head()\n",
    "\n",
    "segt_map = {\n",
    "    r'[1-2][1-4]': 'hibernating',\n",
    "    r'[1-2]5': 'can\\'t loose',\n",
    "    r'3[1-3]': 'about to sleep',\n",
    "    r'[3-4][4-5]': 'loyal customers',\n",
    "    r'[4-5][2-3]': 'potential loyalists',\n",
    "    r'[4-5]1': 'new customers',\n",
    "    r'5[4-5]': 'champions'\n",
    "}\n",
    "\n",
    "df['Segment'] = df['R'].map(str) + df['F'].map(str)\n",
    "df['Segment'] = df['Segment'].replace(segt_map, regex=True)\n",
    "df.head()"
   ]
  },
  {
   "cell_type": "code",
   "execution_count": 16,
   "metadata": {},
   "outputs": [
    {
     "name": "stdout",
     "output_type": "stream",
     "text": [
      "                      DAYS TRIPS   SALES          \n",
      "                      mean  mean    mean     count\n",
      "Segment                                           \n",
      "about to sleep       373.7   1.7   114.0  11686295\n",
      "can't loose          627.8  10.1   666.6   1061362\n",
      "champions             85.4  17.0  1152.1  11656168\n",
      "hibernating          776.8   1.7   114.0  33597049\n",
      "loyal customers      249.3   9.2   623.0  13957513\n",
      "new customers        144.5   1.0    71.4   7206666\n",
      "potential loyalists  142.4   2.4   169.3   7652600\n"
     ]
    }
   ],
   "source": [
    "# count the number of customers in each segment\n",
    "# segments_counts = df['Segment'].value_counts().sort_values(ascending=True)\n",
    "# print(segments_counts)\n",
    "\n",
    "segment_count_R_F = df.groupby('Segment').agg({\n",
    "    'DAYS': 'mean',\n",
    "    'TRIPS': 'mean',\n",
    "    'SALES': ['mean', 'count']\n",
    "}).round(1)\n",
    "print(segment_count_R_F)"
   ]
  },
  {
   "cell_type": "code",
   "execution_count": 17,
   "metadata": {},
   "outputs": [
    {
     "data": {
      "image/png": "[encoded data removed]",
      "text/plain": [
       "<Figure size 432x288 with 1 Axes>"
      ]
     },
     "metadata": {
      "needs_background": "light"
     },
     "output_type": "display_data"
    }
   ],
   "source": [
    "\n",
    "# count the number of customers in each segment\n",
    "segments_counts = df['Segment'].value_counts().sort_values(ascending=True)\n",
    "\n",
    "fig, ax = plt.subplots()\n",
    "\n",
    "bars = ax.barh(range(len(segments_counts)),\n",
    "              segments_counts,\n",
    "              color='firebrick')\n",
    "ax.set_frame_on(False)\n",
    "ax.tick_params(left=False,\n",
    "               bottom=False,\n",
    "               labelbottom=False)\n",
    "ax.set_yticks(range(len(segments_counts)))\n",
    "ax.set_yticklabels(segments_counts.index)\n",
    "\n",
    "for i, bar in enumerate(bars):\n",
    "        value = bar.get_width()\n",
    "        if segments_counts.index[i] in [\"about to sleep\",\"can't loose\"]:\n",
    "            bar.set_color('silver')\n",
    "        ax.text(value,\n",
    "                bar.get_y() + bar.get_height()/2,\n",
    "                '{:,} ({:}%)'.format(int(value),\n",
    "                                   int(value*100/segments_counts.sum())),\n",
    "                va='center',\n",
    "                ha='left'\n",
    "               )\n",
    "\n",
    "plt.show()"
   ]
  },
  {
   "cell_type": "code",
   "execution_count": 18,
   "metadata": {
    "scrolled": true
   },
   "outputs": [
    {
     "name": "stdout",
     "output_type": "stream",
     "text": [
      "                      DAYS TRIPS   SALES          \n",
      "                      mean  mean    mean     count\n",
      "Segment                                           \n",
      "about to sleep       373.7   1.7   114.0  11686295\n",
      "can't loose          627.8  10.1   666.6   1061362\n",
      "champions             85.4  17.0  1152.1  11656168\n",
      "hibernating          776.8   1.7   114.0  33597049\n",
      "loyal customers      249.3   9.2   623.0  13957513\n",
      "new customers        144.5   1.0    71.4   7206666\n",
      "potential loyalists  142.4   2.4   169.3   7652600\n"
     ]
    }
   ],
   "source": [
    "# Calculate average values for each RFM_Level, and return a size of each segment \n",
    "rfm_level_agg = df.groupby('Segment').agg({\n",
    "    'DAYS': 'mean',\n",
    "    'TRIPS': 'mean',\n",
    "    'SALES': ['mean', 'count']\n",
    "}).round(1)\n",
    "# Print the aggregated dataset\n",
    "print(rfm_level_agg)"
   ]
  },
  {
   "cell_type": "code",
   "execution_count": 20,
   "metadata": {},
   "outputs": [],
   "source": [
    "CID_RFM_score = df[['CID','RFM Score','Segment']]\n",
    "CID_RFM_score.to_csv('CID_RFM_score.csv')"
   ]
  },
  {
   "cell_type": "code",
   "execution_count": 1,
   "metadata": {},
   "outputs": [],
   "source": [
    "# rfm_level_agg.columns = rfm_level_agg.columns.droplevel()\n",
    "# rfm_level_agg.columns = ['RecencyMean','FrequencyMean','MonetaryMean', 'Count']\n",
    "# Create our plot and resize it.\n",
    "fig = plt.gcf()\n",
    "ax = fig.add_subplot()\n",
    "fig.set_size_inches(16, 9)\n",
    "squarify.plot(sizes=rfm_level_agg['count'], \n",
    "              label=[ 'hibernating',\n",
    "                     'at risk',\n",
    "                     'can\\'t loose',\n",
    "                     'about to sleep',\n",
    "                     'need attention',\n",
    "                     'loyal customers',\n",
    "                     'promising',\n",
    "                     'new customers',\n",
    "                     'potential loyalists',\n",
    "                     'champions'], alpha=.6 )\n",
    "plt.title(\"RFM Segments\",fontsize=18,fontweight=\"bold\")\n",
    "plt.axis('off')\n",
    "plt.show()"
   ]
  },
  {
   "cell_type": "code",
   "execution_count": null,
   "metadata": {},
   "outputs": [],
   "source": []
  }
 ],
 "metadata": {
  "kernelspec": {
   "display_name": "Python 3",
   "language": "python",
   "name": "python3"
  },
  "language_info": {
   "codemirror_mode": {
    "name": "ipython",
    "version": 3
   },
   "file_extension": ".py",
   "mimetype": "text/x-python",
   "name": "python",
   "nbconvert_exporter": "python",
   "pygments_lexer": "ipython3",
   "version": "3.7.3"
  }
 },
 "nbformat": 4,
 "nbformat_minor": 2
}
